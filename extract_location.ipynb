{
 "cells": [
  {
   "cell_type": "code",
   "execution_count": 15,
   "metadata": {
    "collapsed": false
   },
   "outputs": [
    {
     "name": "stdout",
     "output_type": "stream",
     "text": [
      "France\n"
     ]
    }
   ],
   "source": [
    "from nltk.tag import StanfordNERTagger\n",
    "from nltk.tokenize import word_tokenize\n",
    "\n",
    "# Change the path according to your system\n",
    "#stanford_classifier = '/home/dell/stanford-ner-2015-04-20/classifiers/english.all.3class.distsim.crf.ser.gz'\n",
    "#stanford_ner_path = 'home/dell/stanford-ner-2015-04-20/stanford-ner.jar'\n",
    "stanford_ner_dir = '/home/dell/stanford-ner-2015-04-20/'\n",
    "eng_model_filename= stanford_ner_dir + 'classifiers/english.all.3class.distsim.crf.ser.gz'\n",
    "my_path_to_jar= stanford_ner_dir + 'stanford-ner.jar'\n",
    "\n",
    "st = StanfordNERTagger(model_filename=eng_model_filename, path_to_jar=my_path_to_jar) \n",
    "#st.tag('Rami Eid is studying at Stony Brook University in NY'.split())\n",
    "\n",
    "\n",
    "# Creating Tagger Object\n",
    "#st = StanfordNERTagger(stanford_classifier, stanford_ner_path, encoding='utf-8')\n",
    "\n",
    "text = 'While in France, Christine Lagarde discussed short-term stimulus efforts in a recent interview with the Wall Street Journal.'\n",
    "\n",
    "tokenized_text = word_tokenize(text)\n",
    "classified_text = st.tag(tokenized_text)\n",
    "\n",
    "#print classified_text\n",
    "#entities = st.get_entities(text)\n",
    "for term,tag in classified_text:\n",
    "    if tag == 'LOCATION':\n",
    "        print term"
   ]
  }
 ],
 "metadata": {
  "kernelspec": {
   "display_name": "Python 2",
   "language": "python",
   "name": "python2"
  },
  "language_info": {
   "codemirror_mode": {
    "name": "ipython",
    "version": 2
   },
   "file_extension": ".py",
   "mimetype": "text/x-python",
   "name": "python",
   "nbconvert_exporter": "python",
   "pygments_lexer": "ipython2",
   "version": "2.7.13"
  }
 },
 "nbformat": 4,
 "nbformat_minor": 2
}
