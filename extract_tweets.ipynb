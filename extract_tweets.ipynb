{
 "cells": [
  {
   "cell_type": "code",
   "execution_count": 1,
   "metadata": {
    "collapsed": false
   },
   "outputs": [],
   "source": [
    "from tweepy.streaming import StreamListener\n",
    "from tweepy import OAuthHandler\n",
    "from tweepy import Stream\n",
    "import twython\n",
    "from textblob import TextBlob\n",
    "import json\n",
    "import pandas as pd\n",
    "import matplotlib.pyplot as plt\n",
    "import sys\n",
    "import re\n",
    "import dateutil.parser\n",
    "from pytz import timezone\n",
    "import pytz\n",
    "from collections import defaultdict\n",
    "#from elasticsearch import Elasticsearch"
   ]
  },
  {
   "cell_type": "code",
   "execution_count": 2,
   "metadata": {
    "collapsed": true
   },
   "outputs": [],
   "source": [
    "#Variables that contains the user credentials to access Twitter API \n",
    "access_token = \"717220472623071233-oeDgXLyYdqT92Mi06aaAGV7EtSExfKS\"\n",
    "access_token_secret = \"tVh6WAqVqJ5Pekb3skPON4OD46dyyBAIGOiWjPkZrtglC\"\n",
    "consumer_key = \"qiOaRLVPldazXmYmF3IaIQw4L\"\n",
    "consumer_secret = \"FAzcCMF1UUyuNuSeddAA1nDJYPeXm6OhaCD084k1t3BZ0HleCY\""
   ]
  },
  {
   "cell_type": "code",
   "execution_count": 3,
   "metadata": {
    "collapsed": false
   },
   "outputs": [],
   "source": [
    "sgtz = timezone('Asia/Kolkata')\n",
    "utc = pytz.timezone('UTC')"
   ]
  },
  {
   "cell_type": "code",
   "execution_count": 4,
   "metadata": {
    "collapsed": true
   },
   "outputs": [],
   "source": [
    "STATES = [\n",
    "    'Andaman and Nicobar Islands',\n",
    "    'Andhra Pradesh',\n",
    "    'Arunachal Pradesh',\n",
    "    'Assam',\n",
    "    'Bihar',\n",
    "    'Chandigarh',\n",
    "    'Chhattisgarh',\n",
    "    'Dadra and Nagar Haveli',\n",
    "    'Daman and Diu',\n",
    "    'Delhi',\n",
    "    'Goa',\n",
    "    'Gujarat',\n",
    "    'Haryana',\n",
    "    'Himachal Pradesh',\n",
    "    'Jammu and Kashmir',\n",
    "    'Jharkhand',\n",
    "    'Karnataka',\n",
    "    'Kerela',\n",
    "    'Lakshadweep',\n",
    "    'Madhya Pradesh',\n",
    "    'Maharashtra',\n",
    "    'Manipur',\n",
    "    'Meghalaya',\n",
    "    'Mizoram',\n",
    "    'Nagaland',\n",
    "    'Odisha',\n",
    "    'Puducherry',\n",
    "    'Punjab',\n",
    "    'Rajasthan',\n",
    "    'Sikkim',\n",
    "    'Tamil Nadu',\n",
    "    'Telangana',\n",
    "    'Tripura',\n",
    "    'Uttar Pradesh',\n",
    "    'Uttrakhand',\n",
    "    'West Bengal'\n",
    "]"
   ]
  },
  {
   "cell_type": "code",
   "execution_count": 5,
   "metadata": {
    "collapsed": true
   },
   "outputs": [],
   "source": [
    "regex = re.compile('|'.join(STATES).lower())\n",
    "linenum_re = re.compile(r'([A-Z][A-Z]\\d+)')\n",
    "retweets_re = re.compile(r'^RT\\s')\n",
    "\n",
    "enc = lambda x: x.encode('latin1', errors='ignore')"
   ]
  },
  {
   "cell_type": "code",
   "execution_count": 6,
   "metadata": {
    "collapsed": false
   },
   "outputs": [],
   "source": [
    "#This is a basic listener that just prints received tweets to stdout.\n",
    "\n",
    "class StdOutListener(StreamListener):\n",
    "\n",
    "    \n",
    "    def on_data(self, data):\n",
    "        tweet = json.loads(data)\n",
    "        tweets_data.append(tweet)\n",
    "        #print data\n",
    "        return True\n",
    "\n",
    "    '''\n",
    "    def on_data(self, data):\n",
    "        tweet = json.loads(data)\n",
    "\n",
    "        if not tweet.has_key('user'):\n",
    "            print 'No user data - ignoring tweet.'\n",
    "            return True\n",
    "\n",
    "        user = enc(tweet['user']['name'])\n",
    "        text = enc(tweet['text'])\n",
    "\n",
    "        # ignore text that doesn't contain one of the keywords\n",
    "        matches = re.search(regex, text.lower())\n",
    "        if not matches:\n",
    "            return True\n",
    "\n",
    "        # ignore retweets\n",
    "        #if re.search(retweets_re, text):\n",
    "        #    return True\n",
    "\n",
    "        location = enc(tweet['user']['location'])\n",
    "        source = enc(tweet['source'])\n",
    "        d = dateutil.parser.parse(enc(tweet['created_at']))\n",
    "\n",
    "        # localize time\n",
    "        d_tz = utc.normalize(d)\n",
    "        localtime = d.astimezone(sgtz)\n",
    "        tmstr = localtime.strftime(\"%Y%m%d-%H:%M:%S\")\n",
    "\n",
    "        # append the hourly tweet file\n",
    "        #with open('tweets-%s.data' % tmstr.split(':')[0], 'a+') as f:\n",
    "        #    f.write(data)\n",
    "\n",
    "        # is this a geocoded tweet?\n",
    "    \n",
    "        geo = tweet['geo']\n",
    "        if geo and geo['type'] == 'Point':\n",
    "            # collect location of mrt station\n",
    "            coords = geo['coordinates']\n",
    "            ln = re.search(linenum_re, text)\n",
    "            if ln:\n",
    "                with open('mrt_station_locations.csv', 'a+') as mrtgeo:\n",
    "                    print(\"Found geo coords for MRT Station (%s) '%s': (%f, %f)\\n\" %\n",
    "                            (ln.group(), matches.group(), coords[1], coords[0]))\n",
    "                    mrtgeo.write(\"%f\\t%f\\t%s\\t%s\\n\" %\n",
    "                            (coords[1], coords[0], matches.group(), ln.group()))\n",
    "\n",
    "        '''\n",
    "        # print summary of tweet\n",
    "        #print('%s\\n%s\\n%s\\n%s\\n%s\\n\\n ----------------\\n' % (user, location, source, tmstr, text))\n",
    "    \n",
    "    def on_error(self, status):\n",
    "        print status\n",
    "\n"
   ]
  },
  {
   "cell_type": "code",
   "execution_count": 16,
   "metadata": {
    "collapsed": false
   },
   "outputs": [],
   "source": [
    "# create instance of elasticsearch\n",
    "#es = Elasticsearch()\n",
    "\n",
    "\n",
    "class TweetStreamListener(StreamListener):\n",
    "\n",
    "    # on success\n",
    "    def on_data(self, data):\n",
    "\n",
    "        # decode json\n",
    "        dict_data = json.loads(data)\n",
    "\n",
    "        # pass tweet into TextBlob\n",
    "        tweet = TextBlob(dict_data[\"text\"])\n",
    "\n",
    "        # output sentiment polarity\n",
    "        print tweet.sentiment.polarity\n",
    "\n",
    "        # determine if sentiment is positive, negative, or neutral\n",
    "        if tweet.sentiment.polarity < 0:\n",
    "            sentiment = \"negative\"\n",
    "        elif tweet.sentiment.polarity == 0:\n",
    "            sentiment = \"neutral\"\n",
    "        else:\n",
    "            sentiment = \"positive\"\n",
    "\n",
    "        # output sentiment\n",
    "        print sentiment\n",
    "\n",
    "        '''\n",
    "        # add text and sentiment info to elasticsearch\n",
    "        es.index(index=\"sentiment\",\n",
    "                 doc_type=\"test-type\",\n",
    "                 body={\"author\": dict_data[\"user\"][\"screen_name\"],\n",
    "                       \"date\": dict_data[\"created_at\"],\n",
    "                       \"message\": dict_data[\"text\"],\n",
    "                       \"polarity\": tweet.sentiment.polarity,\n",
    "                       \"subjectivity\": tweet.sentiment.subjectivity,\n",
    "                       \"sentiment\": sentiment})\n",
    "        '''\n",
    "        return True\n",
    "\n",
    "    # on failure\n",
    "    def on_error(self, status):\n",
    "        print status\n"
   ]
  },
  {
   "cell_type": "code",
   "execution_count": 7,
   "metadata": {
    "collapsed": false
   },
   "outputs": [
    {
     "ename": "KeyboardInterrupt",
     "evalue": "",
     "output_type": "error",
     "traceback": [
      "\u001b[0;31m---------------------------------------------------------------------------\u001b[0m",
      "\u001b[0;31mKeyboardInterrupt\u001b[0m                         Traceback (most recent call last)",
      "\u001b[0;32m<ipython-input-7-c627058853c8>\u001b[0m in \u001b[0;36m<module>\u001b[0;34m()\u001b[0m\n\u001b[1;32m     11\u001b[0m \u001b[0;34m\u001b[0m\u001b[0m\n\u001b[1;32m     12\u001b[0m     \u001b[0;31m#This line filter Twitter Streams to capture data by the keywords: 'education'\u001b[0m\u001b[0;34m\u001b[0m\u001b[0;34m\u001b[0m\u001b[0m\n\u001b[0;32m---> 13\u001b[0;31m     \u001b[0mstream\u001b[0m\u001b[0;34m.\u001b[0m\u001b[0mfilter\u001b[0m\u001b[0;34m(\u001b[0m\u001b[0mtrack\u001b[0m\u001b[0;34m=\u001b[0m\u001b[0;34m[\u001b[0m\u001b[0;34m'#edpolicy,#edreform,#edpolitics'\u001b[0m\u001b[0;34m]\u001b[0m\u001b[0;34m)\u001b[0m\u001b[0;34m\u001b[0m\u001b[0m\n\u001b[0m",
      "\u001b[0;32m/home/dell/anaconda2/lib/python2.7/site-packages/tweepy/streaming.pyc\u001b[0m in \u001b[0;36mfilter\u001b[0;34m(self, follow, track, async, locations, stall_warnings, languages, encoding, filter_level)\u001b[0m\n\u001b[1;32m    443\u001b[0m         \u001b[0mself\u001b[0m\u001b[0;34m.\u001b[0m\u001b[0msession\u001b[0m\u001b[0;34m.\u001b[0m\u001b[0mparams\u001b[0m \u001b[0;34m=\u001b[0m \u001b[0;34m{\u001b[0m\u001b[0;34m'delimited'\u001b[0m\u001b[0;34m:\u001b[0m \u001b[0;34m'length'\u001b[0m\u001b[0;34m}\u001b[0m\u001b[0;34m\u001b[0m\u001b[0m\n\u001b[1;32m    444\u001b[0m         \u001b[0mself\u001b[0m\u001b[0;34m.\u001b[0m\u001b[0mhost\u001b[0m \u001b[0;34m=\u001b[0m \u001b[0;34m'stream.twitter.com'\u001b[0m\u001b[0;34m\u001b[0m\u001b[0m\n\u001b[0;32m--> 445\u001b[0;31m         \u001b[0mself\u001b[0m\u001b[0;34m.\u001b[0m\u001b[0m_start\u001b[0m\u001b[0;34m(\u001b[0m\u001b[0masync\u001b[0m\u001b[0;34m)\u001b[0m\u001b[0;34m\u001b[0m\u001b[0m\n\u001b[0m\u001b[1;32m    446\u001b[0m \u001b[0;34m\u001b[0m\u001b[0m\n\u001b[1;32m    447\u001b[0m     def sitestream(self, follow, stall_warnings=False,\n",
      "\u001b[0;32m/home/dell/anaconda2/lib/python2.7/site-packages/tweepy/streaming.pyc\u001b[0m in \u001b[0;36m_start\u001b[0;34m(self, async)\u001b[0m\n\u001b[1;32m    359\u001b[0m             \u001b[0mself\u001b[0m\u001b[0;34m.\u001b[0m\u001b[0m_thread\u001b[0m\u001b[0;34m.\u001b[0m\u001b[0mstart\u001b[0m\u001b[0;34m(\u001b[0m\u001b[0;34m)\u001b[0m\u001b[0;34m\u001b[0m\u001b[0m\n\u001b[1;32m    360\u001b[0m         \u001b[0;32melse\u001b[0m\u001b[0;34m:\u001b[0m\u001b[0;34m\u001b[0m\u001b[0m\n\u001b[0;32m--> 361\u001b[0;31m             \u001b[0mself\u001b[0m\u001b[0;34m.\u001b[0m\u001b[0m_run\u001b[0m\u001b[0;34m(\u001b[0m\u001b[0;34m)\u001b[0m\u001b[0;34m\u001b[0m\u001b[0m\n\u001b[0m\u001b[1;32m    362\u001b[0m \u001b[0;34m\u001b[0m\u001b[0m\n\u001b[1;32m    363\u001b[0m     \u001b[0;32mdef\u001b[0m \u001b[0mon_closed\u001b[0m\u001b[0;34m(\u001b[0m\u001b[0mself\u001b[0m\u001b[0;34m,\u001b[0m \u001b[0mresp\u001b[0m\u001b[0;34m)\u001b[0m\u001b[0;34m:\u001b[0m\u001b[0;34m\u001b[0m\u001b[0m\n",
      "\u001b[0;32m/home/dell/anaconda2/lib/python2.7/site-packages/tweepy/streaming.pyc\u001b[0m in \u001b[0;36m_run\u001b[0;34m(self)\u001b[0m\n\u001b[1;32m    261\u001b[0m                     \u001b[0mself\u001b[0m\u001b[0;34m.\u001b[0m\u001b[0msnooze_time\u001b[0m \u001b[0;34m=\u001b[0m \u001b[0mself\u001b[0m\u001b[0;34m.\u001b[0m\u001b[0msnooze_time_step\u001b[0m\u001b[0;34m\u001b[0m\u001b[0m\n\u001b[1;32m    262\u001b[0m                     \u001b[0mself\u001b[0m\u001b[0;34m.\u001b[0m\u001b[0mlistener\u001b[0m\u001b[0;34m.\u001b[0m\u001b[0mon_connect\u001b[0m\u001b[0;34m(\u001b[0m\u001b[0;34m)\u001b[0m\u001b[0;34m\u001b[0m\u001b[0m\n\u001b[0;32m--> 263\u001b[0;31m                     \u001b[0mself\u001b[0m\u001b[0;34m.\u001b[0m\u001b[0m_read_loop\u001b[0m\u001b[0;34m(\u001b[0m\u001b[0mresp\u001b[0m\u001b[0;34m)\u001b[0m\u001b[0;34m\u001b[0m\u001b[0m\n\u001b[0m\u001b[1;32m    264\u001b[0m             \u001b[0;32mexcept\u001b[0m \u001b[0;34m(\u001b[0m\u001b[0mTimeout\u001b[0m\u001b[0;34m,\u001b[0m \u001b[0mssl\u001b[0m\u001b[0;34m.\u001b[0m\u001b[0mSSLError\u001b[0m\u001b[0;34m)\u001b[0m \u001b[0;32mas\u001b[0m \u001b[0mexc\u001b[0m\u001b[0;34m:\u001b[0m\u001b[0;34m\u001b[0m\u001b[0m\n\u001b[1;32m    265\u001b[0m                 \u001b[0;31m# This is still necessary, as a SSLError can actually be\u001b[0m\u001b[0;34m\u001b[0m\u001b[0;34m\u001b[0m\u001b[0m\n",
      "\u001b[0;32m/home/dell/anaconda2/lib/python2.7/site-packages/tweepy/streaming.pyc\u001b[0m in \u001b[0;36m_read_loop\u001b[0;34m(self, resp)\u001b[0m\n\u001b[1;32m    311\u001b[0m             \u001b[0mlength\u001b[0m \u001b[0;34m=\u001b[0m \u001b[0;36m0\u001b[0m\u001b[0;34m\u001b[0m\u001b[0m\n\u001b[1;32m    312\u001b[0m             \u001b[0;32mwhile\u001b[0m \u001b[0;32mnot\u001b[0m \u001b[0mresp\u001b[0m\u001b[0;34m.\u001b[0m\u001b[0mraw\u001b[0m\u001b[0;34m.\u001b[0m\u001b[0mclosed\u001b[0m\u001b[0;34m:\u001b[0m\u001b[0;34m\u001b[0m\u001b[0m\n\u001b[0;32m--> 313\u001b[0;31m                 \u001b[0mline\u001b[0m \u001b[0;34m=\u001b[0m \u001b[0mbuf\u001b[0m\u001b[0;34m.\u001b[0m\u001b[0mread_line\u001b[0m\u001b[0;34m(\u001b[0m\u001b[0;34m)\u001b[0m\u001b[0;34m.\u001b[0m\u001b[0mstrip\u001b[0m\u001b[0;34m(\u001b[0m\u001b[0;34m)\u001b[0m\u001b[0;34m\u001b[0m\u001b[0m\n\u001b[0m\u001b[1;32m    314\u001b[0m                 \u001b[0;32mif\u001b[0m \u001b[0;32mnot\u001b[0m \u001b[0mline\u001b[0m\u001b[0;34m:\u001b[0m\u001b[0;34m\u001b[0m\u001b[0m\n\u001b[1;32m    315\u001b[0m                     \u001b[0mself\u001b[0m\u001b[0;34m.\u001b[0m\u001b[0mlistener\u001b[0m\u001b[0;34m.\u001b[0m\u001b[0mkeep_alive\u001b[0m\u001b[0;34m(\u001b[0m\u001b[0;34m)\u001b[0m  \u001b[0;31m# keep-alive new lines are expected\u001b[0m\u001b[0;34m\u001b[0m\u001b[0m\n",
      "\u001b[0;32m/home/dell/anaconda2/lib/python2.7/site-packages/tweepy/streaming.pyc\u001b[0m in \u001b[0;36mread_line\u001b[0;34m(self, sep)\u001b[0m\n\u001b[1;32m    177\u001b[0m             \u001b[0;32melse\u001b[0m\u001b[0;34m:\u001b[0m\u001b[0;34m\u001b[0m\u001b[0m\n\u001b[1;32m    178\u001b[0m                 \u001b[0mstart\u001b[0m \u001b[0;34m=\u001b[0m \u001b[0mlen\u001b[0m\u001b[0;34m(\u001b[0m\u001b[0mself\u001b[0m\u001b[0;34m.\u001b[0m\u001b[0m_buffer\u001b[0m\u001b[0;34m)\u001b[0m\u001b[0;34m\u001b[0m\u001b[0m\n\u001b[0;32m--> 179\u001b[0;31m             \u001b[0mself\u001b[0m\u001b[0;34m.\u001b[0m\u001b[0m_buffer\u001b[0m \u001b[0;34m+=\u001b[0m \u001b[0mself\u001b[0m\u001b[0;34m.\u001b[0m\u001b[0m_stream\u001b[0m\u001b[0;34m.\u001b[0m\u001b[0mread\u001b[0m\u001b[0;34m(\u001b[0m\u001b[0mself\u001b[0m\u001b[0;34m.\u001b[0m\u001b[0m_chunk_size\u001b[0m\u001b[0;34m)\u001b[0m\u001b[0;34m\u001b[0m\u001b[0m\n\u001b[0m\u001b[1;32m    180\u001b[0m \u001b[0;34m\u001b[0m\u001b[0m\n\u001b[1;32m    181\u001b[0m     \u001b[0;32mdef\u001b[0m \u001b[0m_pop\u001b[0m\u001b[0;34m(\u001b[0m\u001b[0mself\u001b[0m\u001b[0;34m,\u001b[0m \u001b[0mlength\u001b[0m\u001b[0;34m)\u001b[0m\u001b[0;34m:\u001b[0m\u001b[0;34m\u001b[0m\u001b[0m\n",
      "\u001b[0;32m/home/dell/anaconda2/lib/python2.7/site-packages/requests/packages/urllib3/response.pyc\u001b[0m in \u001b[0;36mread\u001b[0;34m(self, amt, decode_content, cache_content)\u001b[0m\n\u001b[1;32m    378\u001b[0m             \u001b[0;32melse\u001b[0m\u001b[0;34m:\u001b[0m\u001b[0;34m\u001b[0m\u001b[0m\n\u001b[1;32m    379\u001b[0m                 \u001b[0mcache_content\u001b[0m \u001b[0;34m=\u001b[0m \u001b[0mFalse\u001b[0m\u001b[0;34m\u001b[0m\u001b[0m\n\u001b[0;32m--> 380\u001b[0;31m                 \u001b[0mdata\u001b[0m \u001b[0;34m=\u001b[0m \u001b[0mself\u001b[0m\u001b[0;34m.\u001b[0m\u001b[0m_fp\u001b[0m\u001b[0;34m.\u001b[0m\u001b[0mread\u001b[0m\u001b[0;34m(\u001b[0m\u001b[0mamt\u001b[0m\u001b[0;34m)\u001b[0m\u001b[0;34m\u001b[0m\u001b[0m\n\u001b[0m\u001b[1;32m    381\u001b[0m                 \u001b[0;32mif\u001b[0m \u001b[0mamt\u001b[0m \u001b[0;34m!=\u001b[0m \u001b[0;36m0\u001b[0m \u001b[0;32mand\u001b[0m \u001b[0;32mnot\u001b[0m \u001b[0mdata\u001b[0m\u001b[0;34m:\u001b[0m  \u001b[0;31m# Platform-specific: Buggy versions of Python.\u001b[0m\u001b[0;34m\u001b[0m\u001b[0m\n\u001b[1;32m    382\u001b[0m                     \u001b[0;31m# Close the connection when no data is returned\u001b[0m\u001b[0;34m\u001b[0m\u001b[0;34m\u001b[0m\u001b[0m\n",
      "\u001b[0;32m/home/dell/anaconda2/lib/python2.7/httplib.pyc\u001b[0m in \u001b[0;36mread\u001b[0;34m(self, amt)\u001b[0m\n\u001b[1;32m    571\u001b[0m \u001b[0;34m\u001b[0m\u001b[0m\n\u001b[1;32m    572\u001b[0m         \u001b[0;32mif\u001b[0m \u001b[0mself\u001b[0m\u001b[0;34m.\u001b[0m\u001b[0mchunked\u001b[0m\u001b[0;34m:\u001b[0m\u001b[0;34m\u001b[0m\u001b[0m\n\u001b[0;32m--> 573\u001b[0;31m             \u001b[0;32mreturn\u001b[0m \u001b[0mself\u001b[0m\u001b[0;34m.\u001b[0m\u001b[0m_read_chunked\u001b[0m\u001b[0;34m(\u001b[0m\u001b[0mamt\u001b[0m\u001b[0;34m)\u001b[0m\u001b[0;34m\u001b[0m\u001b[0m\n\u001b[0m\u001b[1;32m    574\u001b[0m \u001b[0;34m\u001b[0m\u001b[0m\n\u001b[1;32m    575\u001b[0m         \u001b[0;32mif\u001b[0m \u001b[0mamt\u001b[0m \u001b[0;32mis\u001b[0m \u001b[0mNone\u001b[0m\u001b[0;34m:\u001b[0m\u001b[0;34m\u001b[0m\u001b[0m\n",
      "\u001b[0;32m/home/dell/anaconda2/lib/python2.7/httplib.pyc\u001b[0m in \u001b[0;36m_read_chunked\u001b[0;34m(self, amt)\u001b[0m\n\u001b[1;32m    613\u001b[0m         \u001b[0;32mwhile\u001b[0m \u001b[0mTrue\u001b[0m\u001b[0;34m:\u001b[0m\u001b[0;34m\u001b[0m\u001b[0m\n\u001b[1;32m    614\u001b[0m             \u001b[0;32mif\u001b[0m \u001b[0mchunk_left\u001b[0m \u001b[0;32mis\u001b[0m \u001b[0mNone\u001b[0m\u001b[0;34m:\u001b[0m\u001b[0;34m\u001b[0m\u001b[0m\n\u001b[0;32m--> 615\u001b[0;31m                 \u001b[0mline\u001b[0m \u001b[0;34m=\u001b[0m \u001b[0mself\u001b[0m\u001b[0;34m.\u001b[0m\u001b[0mfp\u001b[0m\u001b[0;34m.\u001b[0m\u001b[0mreadline\u001b[0m\u001b[0;34m(\u001b[0m\u001b[0m_MAXLINE\u001b[0m \u001b[0;34m+\u001b[0m \u001b[0;36m1\u001b[0m\u001b[0;34m)\u001b[0m\u001b[0;34m\u001b[0m\u001b[0m\n\u001b[0m\u001b[1;32m    616\u001b[0m                 \u001b[0;32mif\u001b[0m \u001b[0mlen\u001b[0m\u001b[0;34m(\u001b[0m\u001b[0mline\u001b[0m\u001b[0;34m)\u001b[0m \u001b[0;34m>\u001b[0m \u001b[0m_MAXLINE\u001b[0m\u001b[0;34m:\u001b[0m\u001b[0;34m\u001b[0m\u001b[0m\n\u001b[1;32m    617\u001b[0m                     \u001b[0;32mraise\u001b[0m \u001b[0mLineTooLong\u001b[0m\u001b[0;34m(\u001b[0m\u001b[0;34m\"chunk size\"\u001b[0m\u001b[0;34m)\u001b[0m\u001b[0;34m\u001b[0m\u001b[0m\n",
      "\u001b[0;32m/home/dell/anaconda2/lib/python2.7/socket.pyc\u001b[0m in \u001b[0;36mreadline\u001b[0;34m(self, size)\u001b[0m\n\u001b[1;32m    478\u001b[0m             \u001b[0;32mwhile\u001b[0m \u001b[0mTrue\u001b[0m\u001b[0;34m:\u001b[0m\u001b[0;34m\u001b[0m\u001b[0m\n\u001b[1;32m    479\u001b[0m                 \u001b[0;32mtry\u001b[0m\u001b[0;34m:\u001b[0m\u001b[0;34m\u001b[0m\u001b[0m\n\u001b[0;32m--> 480\u001b[0;31m                     \u001b[0mdata\u001b[0m \u001b[0;34m=\u001b[0m \u001b[0mself\u001b[0m\u001b[0;34m.\u001b[0m\u001b[0m_sock\u001b[0m\u001b[0;34m.\u001b[0m\u001b[0mrecv\u001b[0m\u001b[0;34m(\u001b[0m\u001b[0mself\u001b[0m\u001b[0;34m.\u001b[0m\u001b[0m_rbufsize\u001b[0m\u001b[0;34m)\u001b[0m\u001b[0;34m\u001b[0m\u001b[0m\n\u001b[0m\u001b[1;32m    481\u001b[0m                 \u001b[0;32mexcept\u001b[0m \u001b[0merror\u001b[0m\u001b[0;34m,\u001b[0m \u001b[0me\u001b[0m\u001b[0;34m:\u001b[0m\u001b[0;34m\u001b[0m\u001b[0m\n\u001b[1;32m    482\u001b[0m                     \u001b[0;32mif\u001b[0m \u001b[0me\u001b[0m\u001b[0;34m.\u001b[0m\u001b[0margs\u001b[0m\u001b[0;34m[\u001b[0m\u001b[0;36m0\u001b[0m\u001b[0;34m]\u001b[0m \u001b[0;34m==\u001b[0m \u001b[0mEINTR\u001b[0m\u001b[0;34m:\u001b[0m\u001b[0;34m\u001b[0m\u001b[0m\n",
      "\u001b[0;32m/home/dell/anaconda2/lib/python2.7/site-packages/requests/packages/urllib3/contrib/pyopenssl.pyc\u001b[0m in \u001b[0;36mrecv\u001b[0;34m(self, *args, **kwargs)\u001b[0m\n\u001b[1;32m    244\u001b[0m         \u001b[0;32mexcept\u001b[0m \u001b[0mOpenSSL\u001b[0m\u001b[0;34m.\u001b[0m\u001b[0mSSL\u001b[0m\u001b[0;34m.\u001b[0m\u001b[0mWantReadError\u001b[0m\u001b[0;34m:\u001b[0m\u001b[0;34m\u001b[0m\u001b[0m\n\u001b[1;32m    245\u001b[0m             rd, wd, ed = select.select(\n\u001b[0;32m--> 246\u001b[0;31m                 [self.socket], [], [], self.socket.gettimeout())\n\u001b[0m\u001b[1;32m    247\u001b[0m             \u001b[0;32mif\u001b[0m \u001b[0;32mnot\u001b[0m \u001b[0mrd\u001b[0m\u001b[0;34m:\u001b[0m\u001b[0;34m\u001b[0m\u001b[0m\n\u001b[1;32m    248\u001b[0m                 \u001b[0;32mraise\u001b[0m \u001b[0mtimeout\u001b[0m\u001b[0;34m(\u001b[0m\u001b[0;34m'The read operation timed out'\u001b[0m\u001b[0;34m)\u001b[0m\u001b[0;34m\u001b[0m\u001b[0m\n",
      "\u001b[0;31mKeyboardInterrupt\u001b[0m: "
     ]
    }
   ],
   "source": [
    "if __name__ == '__main__':\n",
    "\n",
    "    #This handles Twitter authentification and the connection to Twitter Streaming API\n",
    "    global tweets_data\n",
    "    tweets_data = []\n",
    "    l = StdOutListener()\n",
    "    #l = TweetStreamListener()\n",
    "    auth = OAuthHandler(consumer_key, consumer_secret)\n",
    "    auth.set_access_token(access_token, access_token_secret)\n",
    "    stream = Stream(auth, l)\n",
    "\n",
    "    #This line filter Twitter Streams to capture data by the keywords: 'education'\n",
    "    stream.filter(track=['#edpolicy,#edreform,#edpolitics'])"
   ]
  },
  {
   "cell_type": "code",
   "execution_count": 8,
   "metadata": {
    "collapsed": false
   },
   "outputs": [],
   "source": [
    "tweets_dict = defaultdict(list)\n",
    "for tweets in tweets_data:\n",
    "    if tweets.has_key('user'):\n",
    "        #print 'No user data - ignoring tweet.'\n",
    "        user = enc(tweets['user']['name'])\n",
    "        text = enc(tweets['text'])\n",
    "\n",
    "        # ignore text that doesn't contain one of the keywords\n",
    "        matches = re.search(regex, text.lower())\n",
    "        #print matches.group()\n",
    "        if matches:\n",
    "            #print matches.group()\n",
    "            if  matches.group() in tweets_dict.keys():\n",
    "                #print \"First case\"\n",
    "                tweets_dict[matches.group()].append(tweets)\n",
    "            else:\n",
    "                #print \"second case\"\n",
    "                tweets_dict[matches.group()]=list()\n",
    "                tweets_dict[matches.group()].append(tweets)\n",
    "\n",
    "        # ignore retweets\n",
    "        #if re.search(retweets_re, text):\n",
    "        #    return True"
   ]
  },
  {
   "cell_type": "code",
   "execution_count": 12,
   "metadata": {
    "collapsed": false
   },
   "outputs": [
    {
     "name": "stdout",
     "output_type": "stream",
     "text": [
      "[]\n",
      "RT @tedfujimoto: Top private high schools campaign to kill traditional transcripts &amp; change college admissions https://t.co/pT2s6jk89F #hig\n",
      "RT @tedfujimoto: Top private high schools campaign to kill traditional transcripts &amp; change college admissions https://t.co/pT2s6jk89F #hig\n",
      "RT @Lynch39083: At What Age Can We Introduce Children to Honest History? https://t.co/fYFISlj8M0 #edpolicy https://t.co/Je4CzHBUTH\n",
      "RT @tedfujimoto: Of course! Study: Better school climate translates to stronger student performance - Trusted https://t.co/FEDjdsrdcO #edpo\n",
      "RT @tedfujimoto: Of course! Study: Better school climate translates to stronger student performance - Trusted https://t.co/FEDjdsrdcO #edpo\n",
      "Vol 12, 4 2017 iJET International Journal of Emerging Technologies in Learning #elearning #higherED  https://t.co/KPqsyHi9e9 #TIC #edreform\n",
      "Parental Involvement: Strengthening Communication is the Key https://t.co/Ie1qkE4qLE #edpolicy\n",
      "Parental Involvement: Strengthening Communication is the Key https://t.co/BCKTaKZ5Ma #edpolicy\n",
      "Parental Involvement: Strengthening Communication is the Key https://t.co/g9CugXCIph #edpolicy\n",
      "RT @tedfujimoto: Of course! Study: Better school climate translates to stronger student performance - Trusted https://t.co/FEDjdsrdcO #edpo\n",
      "Parental Involvement: Strengthening Communication is the Key https://t.co/UEVeWZ4CUM #edpolicy\n",
      "RT @PoliticsK12: Just because a state has turned in its #ESSA plan doesn't mean it's ready for the next step. More: https://t.co/DBwuX2REtQ\n",
      "RT @SutherlandInst: Washington does not have the best solutions for education &amp; feds should get out of the way of those who do. \n",
      "Really thoughtful piece by @MichaelPetrilli about #edreform advocates. Thx Mike! Letter to a middle-aged Rick Hess https://t.co/LsZJRDp3jb\n",
      "RT @tedfujimoto: So many bad practices out there that don't work! Literacy Practices We Should Abandon https://t.co/oxV2fGgftO #edchat #edp\n",
      "MOOC: � la recherche dun mod�le �conomique. @yepelboin #mlearning #MOOC https://t.co/aBP4szdCVc  #edtech #edreform #elearning\n",
      "The Four Pillars of Flipped Learning https://t.co/x1ND7P4ZI3 #edpolicy\n",
      "The Four Pillars of Flipped Learning https://t.co/728RIw6rJ2 #edpolicy\n",
      "The Four Pillars of Flipped Learning https://t.co/fr4ppMFirt #edpolicy\n",
      "C. Alan Robinson Voice Over https://t.co/BqRvj5UAU7\n",
      "#voiceover #voiceovertalent #Comm_College #MachineLearning #SMM https://t.co/qVXlXtJ5IQ\n",
      "RT @tedfujimoto: Study: Better school climate translates to stronger student performance - Trusted https://t.co/FEDjdsrdcO #edpolicy #edref\n",
      "The Four Pillars of Flipped Learning https://t.co/CfTQz6tYyo #edpolicy\n",
      "RT @AdvocateforEd: The Four Pillars of Flipped Learning https://t.co/x1ND7P4ZI3 #edpolicy\n",
      "RT @tedfujimoto: Of course! Study: Better school climate translates to stronger student performance - Trusted https://t.co/FEDjdsrdcO #edpo\n",
      "RT @tedfujimoto: So many bad practices out there that don't work! Literacy Practices We Should Abandon https://t.co/oxV2fGgftO #edchat #edp\n",
      "Punishable by Death: The Quest for Literacy https://t.co/b6zKCsTgob #edpolicy\n",
      "Punishable by Death: The Quest for Literacy https://t.co/TWx4scBofp #edpolicy\n",
      "Punishable by Death: The Quest for Literacy https://t.co/bEsOHRgAlR #edpolicy\n",
      "Punishable by Death: The Quest for Literacy https://t.co/snF50ODWkX #edpolicy\n",
      "RT @Lynch39083: Punishable by Death: The Quest for Literacy https://t.co/TWx4scBofp #edpolicy\n",
      "RT @MattHiefield: #libraries help bridge the #digitaldivide https://t.co/vY11gY7Drl #education #edchat #edtech #teachers #teaching \n",
      "4 Interesting Facts about #Education in #Mississippi https://t.co/7co9hweFGV #edpolicy https://t.co/k9jctWgZEx\n",
      "4 Interesting Facts about #Education in #Mississippi https://t.co/WY9GWAHKmP #edpolicy https://t.co/5FXBLCN0mo\n",
      "4 Interesting Facts about #Education in #Mississippi https://t.co/cylb0xzwRk #edpolicy https://t.co/d52G48AL1l\n",
      "4 Interesting Facts about #Education in #Mississippi https://t.co/H8mXzrbqX2 #edpolicy https://t.co/nsex2FFN6e\n",
      "RT @tedfujimoto: Study: Better school climate translates to stronger student performance - Trusted https://t.co/FEDjdsrdcO #edpolicy #edref\n",
      "RT @Lynch39083: 4 Interesting Facts about #Education in #Mississippi https://t.co/WY9GWAHKmP #edpolicy https://t.co/5FXBLCN0mo\n"
     ]
    }
   ],
   "source": [
    "print tweets_dict.keys()\n",
    "for tweets in tweets_data:\n",
    "    text = enc(tweets[\"text\"])\n",
    "    print text"
   ]
  },
  {
   "cell_type": "code",
   "execution_count": 11,
   "metadata": {
    "collapsed": false
   },
   "outputs": [],
   "source": [
    "positive = defaultdict(list)\n",
    "negative = defaultdict(list)\n",
    "neutral = defaultdict(list)\n",
    "for keys in tweets_dict.keys():\n",
    "    for tweets in tweets_dict[keys]:\n",
    "        # pass tweet into TextBlob\n",
    "        tweet = TextBlob(tweets[\"text\"])\n",
    "\n",
    "        # output sentiment polarity\n",
    "        #print keys\n",
    "        #print tweet.sentiment.polarity\n",
    "\n",
    "        # determine if sentiment is positive, negative, or neutral\n",
    "        if tweet.sentiment.polarity < 0:\n",
    "            #sentiment = \"negative\"\n",
    "            if keys in negative.keys():\n",
    "                negative[keys].append(tweets)\n",
    "            else:\n",
    "                negative[keys]=[]\n",
    "                negative[keys].append(tweets)\n",
    "        elif tweet.sentiment.polarity == 0:\n",
    "            #sentiment = \"neutral\"\n",
    "            if keys in neutral.keys():\n",
    "                neutral[keys].append(tweets)\n",
    "            else:\n",
    "                neutral[keys]=[]\n",
    "                neutral[keys].append(tweets)\n",
    "        else:\n",
    "            #sentiment = \"positive\"\n",
    "            if keys in positive.keys():\n",
    "                positive[keys].append(tweets)\n",
    "            else:\n",
    "                positive[keys]=[]\n",
    "                positive[keys].append(tweets)\n",
    "        # output sentiment\n",
    "        #print sentiment"
   ]
  },
  {
   "cell_type": "code",
   "execution_count": 12,
   "metadata": {
    "collapsed": false
   },
   "outputs": [
    {
     "name": "stdout",
     "output_type": "stream",
     "text": [
      "13\n",
      "18\n",
      "4\n"
     ]
    }
   ],
   "source": [
    "print len(positive.keys())\n",
    "print len(neutral.keys())\n",
    "print len(negative.keys())"
   ]
  },
  {
   "cell_type": "code",
   "execution_count": 13,
   "metadata": {
    "collapsed": false
   },
   "outputs": [
    {
     "name": "stdout",
     "output_type": "stream",
     "text": [
      "2770\n"
     ]
    }
   ],
   "source": [
    "print len(tweets_data)\n",
    "tweets = pd.DataFrame()\n",
    "\n",
    "tweets['text'] = map(lambda tweet: tweet['text'], tweets_data)\n",
    "tweets['lang'] = map(lambda tweet: tweet['lang'], tweets_data)\n",
    "tweets['country'] = map(lambda tweet: tweet['place']['country'] if tweet['place'] != None else None, tweets_data)\n"
   ]
  },
  {
   "cell_type": "code",
   "execution_count": 14,
   "metadata": {
    "collapsed": false
   },
   "outputs": [
    {
     "data": {
      "image/png": "[encoded data removed]",
      "text/plain": [
       "<matplotlib.figure.Figure at 0x7fd54193b650>"
      ]
     },
     "metadata": {},
     "output_type": "display_data"
    }
   ],
   "source": [
    "tweets_by_lang = tweets['lang'].value_counts()\n",
    "\n",
    "fig, ax = plt.subplots()\n",
    "ax.tick_params(axis='x', labelsize=15)\n",
    "ax.tick_params(axis='y', labelsize=10)\n",
    "ax.set_xlabel('Languages', fontsize=15)\n",
    "ax.set_ylabel('Number of tweets' , fontsize=15)\n",
    "ax.set_title('Top 5 languages', fontsize=15, fontweight='bold')\n",
    "tweets_by_lang[:5].plot(ax=ax, kind='bar', color='red')\n",
    "plt.show()"
   ]
  },
  {
   "cell_type": "code",
   "execution_count": 19,
   "metadata": {
    "collapsed": false
   },
   "outputs": [
    {
     "data": {
      "image/png": "[encoded data removed]",
      "text/plain": [
       "<matplotlib.figure.Figure at 0x7fd53e11a850>"
      ]
     },
     "metadata": {},
     "output_type": "display_data"
    }
   ],
   "source": [
    "tweets_by_lang = tweets['country'].value_counts()\n",
    "\n",
    "fig, ax = plt.subplots()\n",
    "ax.tick_params(axis='x', labelsize=15)\n",
    "ax.tick_params(axis='y', labelsize=10)\n",
    "ax.set_xlabel('Countries', fontsize=15)\n",
    "ax.set_ylabel('Number of tweets' , fontsize=15)\n",
    "ax.set_title('Top 5 Countries', fontsize=15, fontweight='bold')\n",
    "tweets_by_lang[:5].plot(ax=ax, kind='bar', color='red')\n",
    "plt.show()"
   ]
  }
 ],
 "metadata": {
  "kernelspec": {
   "display_name": "Python 2",
   "language": "python",
   "name": "python2"
  },
  "language_info": {
   "codemirror_mode": {
    "name": "ipython",
    "version": 2
   },
   "file_extension": ".py",
   "mimetype": "text/x-python",
   "name": "python",
   "nbconvert_exporter": "python",
   "pygments_lexer": "ipython2",
   "version": "2.7.13"
  }
 },
 "nbformat": 4,
 "nbformat_minor": 2
}
